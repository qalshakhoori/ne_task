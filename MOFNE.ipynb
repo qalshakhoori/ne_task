{
  "nbformat": 4,
  "nbformat_minor": 0,
  "metadata": {
    "colab": {
      "provenance": [],
      "mount_file_id": "1bTFEVHWAdzYWoSYjvtYArNZIHFP9N1Aa",
      "authorship_tag": "ABX9TyPPwRhhrju8cN1ESi453oGT",
      "include_colab_link": true
    },
    "kernelspec": {
      "name": "python3",
      "display_name": "Python 3"
    },
    "language_info": {
      "name": "python"
    }
  },
  "cells": [
    {
      "cell_type": "markdown",
      "metadata": {
        "id": "view-in-github",
        "colab_type": "text"
      },
      "source": [
        "<a href=\"https://colab.research.google.com/github/qalshakhoori/ne_task/blob/main/MOFNE.ipynb\" target=\"_parent\"><img src=\"https://colab.research.google.com/assets/colab-badge.svg\" alt=\"Open In Colab\"/></a>"
      ]
    },
    {
      "cell_type": "code",
      "execution_count": null,
      "metadata": {
        "id": "hYP-wheSK0Av"
      },
      "outputs": [],
      "source": [
        "from google.colab import drive"
      ]
    },
    {
      "cell_type": "code",
      "source": [
        "drive.mount('/content/gdrive')"
      ],
      "metadata": {
        "colab": {
          "base_uri": "https://localhost:8080/"
        },
        "id": "fO-2nq16NBbs",
        "outputId": "a4d6989a-2aa0-4f9e-877c-8df2974792bf"
      },
      "execution_count": null,
      "outputs": [
        {
          "output_type": "stream",
          "name": "stdout",
          "text": [
            "Drive already mounted at /content/gdrive; to attempt to forcibly remount, call drive.mount(\"/content/gdrive\", force_remount=True).\n"
          ]
        }
      ]
    },
    {
      "cell_type": "code",
      "source": [
        "import pandas as pd\n",
        "import matplotlib.pyplot as plt"
      ],
      "metadata": {
        "id": "BurXSRGpNheo"
      },
      "execution_count": null,
      "outputs": []
    },
    {
      "cell_type": "code",
      "source": [
        "xls = pd.ExcelFile('/content/gdrive/My Drive/Q2 2022 Final draft - MOFNE.xlsx')\n",
        "table6 = pd.read_excel(xls, 4, usecols='B:S')"
      ],
      "metadata": {
        "id": "_AhjpeHDNmbR"
      },
      "execution_count": null,
      "outputs": []
    },
    {
      "cell_type": "code",
      "source": [
        "def parseValues(name):\n",
        "  return pd.concat([table6[name][9:10], table6[name][31:32], table6[name][35:36], table6[name][39:40], table6[name][40:41], table6[name][41:42], table6[name][42:43]]).values"
      ],
      "metadata": {
        "id": "QSKUCkgWdnZS"
      },
      "execution_count": null,
      "outputs": []
    },
    {
      "cell_type": "code",
      "source": [
        "sectors = parseValues('Unnamed: 1')\n",
        "gpd2019q1 = parseValues('Unnamed: 3')\n",
        "gpd2019q2 = parseValues('Unnamed: 4')\n",
        "gpd2019q3 = parseValues('Unnamed: 5')\n",
        "gpd2019q4 = parseValues('Unnamed: 6')\n",
        "gpd2020q1 = parseValues('Unnamed: 8')\n",
        "gpd2020q2 = parseValues('Unnamed: 9')\n",
        "gpd2020q3 = parseValues('Unnamed: 10')\n",
        "gpd2020q4 = parseValues('Unnamed: 11')\n",
        "gpd2021q1 = parseValues('Unnamed: 13')\n",
        "gpd2021q2 = parseValues('Unnamed: 14')\n",
        "gpd2021q3 = parseValues('Unnamed: 15')\n",
        "gpd2021q4 = parseValues('Unnamed: 16')\n",
        "gpd2022q1 = parseValues('Unnamed: 17')\n",
        "gpd2022q2 = parseValues('Unnamed: 18')\n",
        "sectors"
      ],
      "metadata": {
        "id": "l73MClwIQX0A",
        "colab": {
          "base_uri": "https://localhost:8080/"
        },
        "outputId": "a2297dfb-38da-4cee-bdc4-ebfbc4e43868"
      },
      "execution_count": null,
      "outputs": [
        {
          "output_type": "execute_result",
          "data": {
            "text/plain": [
              "array(['1) The non-Financial Corporations ',\n",
              "       '2) The Financial Corporations ', '3) Government Services ',\n",
              "       '4) Private Non-Profit Institutions Serving Households',\n",
              "       '5) Households with Employed Persons ',\n",
              "       '6) GDP at Producer Prices', '7) Tax on Products'], dtype=object)"
            ]
          },
          "metadata": {},
          "execution_count": 120
        }
      ]
    },
    {
      "cell_type": "code",
      "source": [
        "def createDataFrame(year, quarter, values):\n",
        "  indexRange = range(len(sectors))\n",
        "  return pd.DataFrame({\n",
        "      'sector': sectors,\n",
        "      'year': pd.Series(year, index=indexRange),\n",
        "      'quarter': pd.Series(quarter, index=indexRange),\n",
        "      'value':  values\n",
        "  })\n",
        "\n",
        "data = pd.concat([\n",
        "    createDataFrame('2019', '1', gpd2019q1),\n",
        "    createDataFrame('2019', '2', gpd2019q2),\n",
        "    createDataFrame('2019', '3', gpd2019q3),\n",
        "    createDataFrame('2019', '4', gpd2019q4),\n",
        "    createDataFrame('2020', '1', gpd2020q1),\n",
        "    createDataFrame('2020', '2', gpd2020q2),\n",
        "    createDataFrame('2020', '3', gpd2020q3),\n",
        "    createDataFrame('2020', '4', gpd2020q4),\n",
        "    createDataFrame('2021', '1', gpd2021q1),\n",
        "    createDataFrame('2021', '2', gpd2021q2),\n",
        "    createDataFrame('2021', '3', gpd2021q3),\n",
        "    createDataFrame('2021', '4', gpd2021q4),\n",
        "    createDataFrame('2022', '1', gpd2022q1),\n",
        "    createDataFrame('2022', '2', gpd2022q2),\n",
        "    ])"
      ],
      "metadata": {
        "id": "zu3ftAb1jsaM"
      },
      "execution_count": null,
      "outputs": []
    },
    {
      "cell_type": "code",
      "source": [
        "avg_sector = data.groupby(['sector'])['value'].mean()\n",
        "avg_sector.plot(kind = 'bar')\n",
        "plt.title('Mean value over sectors')\n",
        "plt.xlabel('Sector')\n",
        "plt.ylabel('Value')\n",
        "plt.show()"
      ],
      "metadata": {
        "colab": {
          "base_uri": "https://localhost:8080/",
          "height": 548
        },
        "id": "vUtM685r4HDY",
        "outputId": "4ae69f2e-5689-4c92-aafb-dcfde6dd0192"
      },
      "execution_count": null,
      "outputs": [
        {
          "output_type": "display_data",
          "data": {
            "text/plain": [
              "<Figure size 432x288 with 1 Axes>"
            ],
            "image/png": "[encoded data removed]"
          },
          "metadata": {
            "needs_background": "light"
          }
        }
      ]
    },
    {
      "cell_type": "code",
      "source": [
        "total_year = data.groupby(['year'])['value'].sum()\n",
        "total_year.plot(kind = 'bar')\n",
        "plt.title('Total value over years')\n",
        "plt.xlabel('Year')\n",
        "plt.ylabel('Value')\n",
        "plt.show()"
      ],
      "metadata": {
        "colab": {
          "base_uri": "https://localhost:8080/",
          "height": 311
        },
        "id": "ORcoLjBo3dAI",
        "outputId": "3c1102f2-98af-442a-963f-e2d95baf068f"
      },
      "execution_count": null,
      "outputs": [
        {
          "output_type": "display_data",
          "data": {
            "text/plain": [
              "<Figure size 432x288 with 1 Axes>"
            ],
            "image/png": "[encoded data removed]"
          },
          "metadata": {
            "needs_background": "light"
          }
        }
      ]
    }
  ]
}